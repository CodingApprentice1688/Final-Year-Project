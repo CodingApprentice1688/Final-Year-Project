{
 "cells": [
  {
   "cell_type": "code",
   "execution_count": 1,
   "metadata": {
    "colab": {},
    "colab_type": "code",
    "id": "j7rjMVoS8dWL"
   },
   "outputs": [],
   "source": [
    "import numpy as np\n",
    "import pandas as pd\n",
    "import os\n",
    "import face_recognition\n",
    "import joblib\n",
    "import ipywidgets as widgets\n",
    "from IPython.display import display \n",
    "from sklearn.model_selection import train_test_split"
   ]
  },
  {
   "cell_type": "code",
   "execution_count": 2,
   "metadata": {
    "colab": {},
    "colab_type": "code",
    "id": "wNF11L71923w"
   },
   "outputs": [
    {
     "name": "stderr",
     "output_type": "stream",
     "text": [
      "C:\\Users\\oswal\\AppData\\Local\\Temp\\ipykernel_42372\\83835706.py:12: SettingWithCopyWarning: \n",
      "A value is trying to be set on a copy of a slice from a DataFrame\n",
      "\n",
      "See the caveats in the documentation: https://pandas.pydata.org/pandas-docs/stable/user_guide/indexing.html#returning-a-view-versus-a-copy\n",
      "  df['heightininch'][i] = int(str(df['height'][i])[:1]) * 12 + int(float(str(df['height'][i])[1:]))\n"
     ]
    }
   ],
   "source": [
    "df = pd.read_csv(\"../Desktop/illinois/person.csv\", sep = \";\")\n",
    "pd.set_option(\"display.max_columns\", None)\n",
    "df = df.dropna(subset=['weight', 'height'])\n",
    "df = df.drop(columns=['date_of_birth', 'hair', 'sex', 'race', 'eyes', 'admission_date', 'projected_parole_date', \n",
    "              'last_paroled_date', 'projected_discharge_date', 'parole_date', 'electronic_detention_date', \n",
    "              'discharge_date', 'parent_institution', 'offender_status', 'location', 'sex_offender_registry_required',\n",
    "             'alias', 'Unnamed: 21'])\n",
    "df = df.reset_index(drop=True)\n",
    "\n",
    "df['heightininch'] = 0\n",
    "for i in range(len(df)):\n",
    "    df['heightininch'][i] = int(str(df['height'][i])[:1]) * 12 + int(float(str(df['height'][i])[1:]))\n",
    "\n",
    "df['bmi'] = df['weight'] * 703 / df['heightininch']**2\n"
   ]
  },
  {
   "cell_type": "code",
   "execution_count": 3,
   "metadata": {
    "colab": {
     "base_uri": "https://localhost:8080/",
     "height": 402
    },
    "colab_type": "code",
    "executionInfo": {
     "elapsed": 51339,
     "status": "ok",
     "timestamp": 1593670287597,
     "user": {
      "displayName": "Ankit Jain",
      "photoUrl": "https://lh3.googleusercontent.com/a-/AOh14GgzuKnJrcmMfm2R-Tq5Wrp7v5UBIV6IvRXVGGAG=s64",
      "userId": "18137918880287519581"
     },
     "user_tz": -330
    },
    "id": "3wVpShy5-stp",
    "outputId": "e0c34e4f-fa2b-42c2-bb10-a5a011f490b3"
   },
   "outputs": [],
   "source": [
    "dfow = df.loc[(df['bmi'] >= 25) & (df['bmi'] < 30)]\n",
    "dfob = df.loc[(df['bmi'] >= 30)]\n",
    "dfno = df.loc[(df['bmi'] >= 18.5) & (df['bmi'] < 25)]\n",
    "dfuw = df.loc[(df['bmi'] < 18.5)]\n",
    "dfuw = dfuw.reset_index(drop=True)\n",
    "dfno = dfno.reset_index(drop=True)\n",
    "dfow = dfow.reset_index(drop=True)\n",
    "dfob = dfob.reset_index(drop=True)\n",
    "dfob = dfob.drop(dfob.index[900:])\n",
    "dfow = dfow.drop(dfow.index[900:])\n",
    "dfno = dfno.drop(dfno.index[900:])\n",
    "dfuw = dfuw.drop(dfuw.index[900:])"
   ]
  },
  {
   "cell_type": "code",
   "execution_count": 4,
   "metadata": {},
   "outputs": [
    {
     "data": {
      "text/html": [
       "<div>\n",
       "<style scoped>\n",
       "    .dataframe tbody tr th:only-of-type {\n",
       "        vertical-align: middle;\n",
       "    }\n",
       "\n",
       "    .dataframe tbody tr th {\n",
       "        vertical-align: top;\n",
       "    }\n",
       "\n",
       "    .dataframe thead th {\n",
       "        text-align: right;\n",
       "    }\n",
       "</style>\n",
       "<table border=\"1\" class=\"dataframe\">\n",
       "  <thead>\n",
       "    <tr style=\"text-align: right;\">\n",
       "      <th></th>\n",
       "      <th>id</th>\n",
       "      <th>name</th>\n",
       "      <th>weight</th>\n",
       "      <th>height</th>\n",
       "      <th>heightininch</th>\n",
       "      <th>bmi</th>\n",
       "    </tr>\n",
       "  </thead>\n",
       "  <tbody>\n",
       "    <tr>\n",
       "      <th>0</th>\n",
       "      <td>A01457</td>\n",
       "      <td>HAYES, LARRY</td>\n",
       "      <td>231.0</td>\n",
       "      <td>68.0</td>\n",
       "      <td>80</td>\n",
       "      <td>25.373906</td>\n",
       "    </tr>\n",
       "    <tr>\n",
       "      <th>1</th>\n",
       "      <td>A01950</td>\n",
       "      <td>BROWN, RALPH</td>\n",
       "      <td>259.0</td>\n",
       "      <td>69.0</td>\n",
       "      <td>81</td>\n",
       "      <td>27.751410</td>\n",
       "    </tr>\n",
       "    <tr>\n",
       "      <th>2</th>\n",
       "      <td>A08141</td>\n",
       "      <td>COWAN, EARL L.</td>\n",
       "      <td>300.0</td>\n",
       "      <td>70.0</td>\n",
       "      <td>84</td>\n",
       "      <td>29.889456</td>\n",
       "    </tr>\n",
       "    <tr>\n",
       "      <th>3</th>\n",
       "      <td>A10309</td>\n",
       "      <td>BUTLER, RICHARD</td>\n",
       "      <td>202.0</td>\n",
       "      <td>60.0</td>\n",
       "      <td>72</td>\n",
       "      <td>27.393133</td>\n",
       "    </tr>\n",
       "    <tr>\n",
       "      <th>4</th>\n",
       "      <td>A10695</td>\n",
       "      <td>MACLIN, GEORGE</td>\n",
       "      <td>248.0</td>\n",
       "      <td>69.0</td>\n",
       "      <td>81</td>\n",
       "      <td>26.572779</td>\n",
       "    </tr>\n",
       "  </tbody>\n",
       "</table>\n",
       "</div>"
      ],
      "text/plain": [
       "       id             name  weight  height  heightininch        bmi\n",
       "0  A01457     HAYES, LARRY   231.0    68.0            80  25.373906\n",
       "1  A01950     BROWN, RALPH   259.0    69.0            81  27.751410\n",
       "2  A08141   COWAN, EARL L.   300.0    70.0            84  29.889456\n",
       "3  A10309  BUTLER, RICHARD   202.0    60.0            72  27.393133\n",
       "4  A10695   MACLIN, GEORGE   248.0    69.0            81  26.572779"
      ]
     },
     "execution_count": 4,
     "metadata": {},
     "output_type": "execute_result"
    }
   ],
   "source": [
    "df_merged = pd.concat([dfow, dfno, dfob, dfuw], ignore_index=True, sort=False)\n",
    "df_merged.head()"
   ]
  },
  {
   "cell_type": "code",
   "execution_count": 5,
   "metadata": {
    "colab": {},
    "colab_type": "code",
    "id": "DFN1Xvpt_ieH"
   },
   "outputs": [],
   "source": [
    "def face_into_encoding(path):\n",
    "#     try:\n",
    "    image = face_recognition.load_image_file(path)\n",
    "    face_encoding = face_recognition.face_encodings(image)\n",
    "    if not face_encoding:\n",
    "        print(\"skipped\" + path)\n",
    "        return np.zeros(128).tolist()\n",
    "    return face_encoding[0].tolist()"
   ]
  },
  {
   "cell_type": "code",
   "execution_count": 6,
   "metadata": {
    "colab": {
     "base_uri": "https://localhost:8080/",
     "height": 202
    },
    "colab_type": "code",
    "executionInfo": {
     "elapsed": 557478,
     "status": "ok",
     "timestamp": 1593679226193,
     "user": {
      "displayName": "Ankit Jain",
      "photoUrl": "https://lh3.googleusercontent.com/a-/AOh14GgzuKnJrcmMfm2R-Tq5Wrp7v5UBIV6IvRXVGGAG=s64",
      "userId": "18137918880287519581"
     },
     "user_tz": -330
    },
    "id": "0t4iYXHz_lUI",
    "outputId": "d857a115-c5ab-423d-9c4d-1e088386abbf"
   },
   "outputs": [
    {
     "name": "stdout",
     "output_type": "stream",
     "text": [
      "skipped../Desktop/illinois/front/front/A80582.jpg\n",
      "skipped../Desktop/illinois/front/front/B08176.jpg\n",
      "skipped../Desktop/illinois/front/front/B09641.jpg\n",
      "skipped../Desktop/illinois/front/front/B12871.jpg\n",
      "skipped../Desktop/illinois/front/front/B20741.jpg\n",
      "skipped../Desktop/illinois/front/front/B36789.jpg\n",
      "skipped../Desktop/illinois/front/front/B44617.jpg\n",
      "skipped../Desktop/illinois/front/front/B46822.jpg\n",
      "skipped../Desktop/illinois/front/front/B69219.jpg\n",
      "skipped../Desktop/illinois/front/front/B71273.jpg\n",
      "skipped../Desktop/illinois/front/front/C01435.jpg\n",
      "skipped../Desktop/illinois/front/front/A63742.jpg\n",
      "skipped../Desktop/illinois/front/front/A70170.jpg\n",
      "skipped../Desktop/illinois/front/front/A70618.jpg\n",
      "skipped../Desktop/illinois/front/front/A74143.jpg\n",
      "skipped../Desktop/illinois/front/front/A90240.jpg\n",
      "skipped../Desktop/illinois/front/front/A91250.jpg\n",
      "skipped../Desktop/illinois/front/front/A92280.jpg\n",
      "skipped../Desktop/illinois/front/front/B04516.jpg\n",
      "skipped../Desktop/illinois/front/front/B05409.jpg\n",
      "skipped../Desktop/illinois/front/front/B05972.jpg\n",
      "skipped../Desktop/illinois/front/front/B12937.jpg\n",
      "skipped../Desktop/illinois/front/front/B45285.jpg\n",
      "skipped../Desktop/illinois/front/front/B53712.jpg\n",
      "skipped../Desktop/illinois/front/front/B66583.jpg\n",
      "skipped../Desktop/illinois/front/front/N57551.jpg\n",
      "skipped../Desktop/illinois/front/front/N91564.jpg\n",
      "skipped../Desktop/illinois/front/front/R26583.jpg\n",
      "skipped../Desktop/illinois/front/front/X68352.jpg\n",
      "skipped../Desktop/illinois/front/front/X76809.jpg\n",
      "skipped../Desktop/illinois/front/front/X77483.jpg\n",
      "skipped../Desktop/illinois/front/front/X77632.jpg\n",
      "skipped../Desktop/illinois/front/front/X78294.jpg\n",
      "skipped../Desktop/illinois/front/front/X78629.jpg\n",
      "skipped../Desktop/illinois/front/front/X78949.jpg\n",
      "skipped../Desktop/illinois/front/front/X78983.jpg\n",
      "skipped../Desktop/illinois/front/front/A00220.jpg\n",
      "skipped../Desktop/illinois/front/front/A10157.jpg\n",
      "skipped../Desktop/illinois/front/front/A56106.jpg\n",
      "skipped../Desktop/illinois/front/front/A61010.jpg\n",
      "skipped../Desktop/illinois/front/front/A61982.jpg\n",
      "skipped../Desktop/illinois/front/front/A68718.jpg\n",
      "skipped../Desktop/illinois/front/front/A70208.jpg\n",
      "skipped../Desktop/illinois/front/front/A81652.jpg\n",
      "skipped../Desktop/illinois/front/front/A81850.jpg\n",
      "skipped../Desktop/illinois/front/front/A82134.jpg\n",
      "skipped../Desktop/illinois/front/front/A82875.jpg\n",
      "skipped../Desktop/illinois/front/front/A83405.jpg\n",
      "skipped../Desktop/illinois/front/front/A86277.jpg\n",
      "skipped../Desktop/illinois/front/front/A90976.jpg\n",
      "skipped../Desktop/illinois/front/front/A91256.jpg\n",
      "skipped../Desktop/illinois/front/front/A91584.jpg\n",
      "skipped../Desktop/illinois/front/front/A92207.jpg\n",
      "skipped../Desktop/illinois/front/front/A93184.jpg\n",
      "skipped../Desktop/illinois/front/front/A93211.jpg\n",
      "skipped../Desktop/illinois/front/front/A95046.jpg\n",
      "skipped../Desktop/illinois/front/front/B03191.jpg\n",
      "skipped../Desktop/illinois/front/front/B04962.jpg\n",
      "skipped../Desktop/illinois/front/front/B05036.jpg\n",
      "skipped../Desktop/illinois/front/front/B09213.jpg\n",
      "skipped../Desktop/illinois/front/front/B13365.jpg\n",
      "skipped../Desktop/illinois/front/front/B17233.jpg\n",
      "skipped../Desktop/illinois/front/front/B20284.jpg\n",
      "skipped../Desktop/illinois/front/front/B20449.jpg\n"
     ]
    }
   ],
   "source": [
    "face_encoded_list = []\n",
    "for imag in df_merged.id:\n",
    "    face_encoded = face_into_encoding('../Desktop/illinois/front/front/'+imag+'.jpg')\n",
    "    face_encoded_list.append(face_encoded)"
   ]
  },
  {
   "cell_type": "code",
   "execution_count": 7,
   "metadata": {
    "colab": {},
    "colab_type": "code",
    "id": "cnDCCpLqznIs"
   },
   "outputs": [],
   "source": [
    "X = np.array(face_encoded_list)"
   ]
  },
  {
   "cell_type": "code",
   "execution_count": 8,
   "metadata": {},
   "outputs": [],
   "source": [
    "y = df_merged.bmi.values\n",
    "plotX = pd.DataFrame(X)"
   ]
  },
  {
   "cell_type": "code",
   "execution_count": 9,
   "metadata": {
    "colab": {},
    "colab_type": "code",
    "id": "Z2s0o6V4zt1f"
   },
   "outputs": [],
   "source": [
    "X_train, X_test, y_train, y_test = train_test_split(X, y, random_state=1)"
   ]
  },
  {
   "cell_type": "code",
   "execution_count": 10,
   "metadata": {
    "colab": {},
    "colab_type": "code",
    "id": "tq2ZN3Lv800b"
   },
   "outputs": [],
   "source": [
    "from sklearn.ensemble import RandomForestRegressor\n",
    "from sklearn.metrics import mean_absolute_error"
   ]
  },
  {
   "cell_type": "code",
   "execution_count": 11,
   "metadata": {
    "colab": {
     "base_uri": "https://localhost:8080/",
     "height": 101
    },
    "colab_type": "code",
    "executionInfo": {
     "elapsed": 127943,
     "status": "ok",
     "timestamp": 1593582028957,
     "user": {
      "displayName": "Ankit Jain",
      "photoUrl": "https://lh3.googleusercontent.com/a-/AOh14GgzuKnJrcmMfm2R-Tq5Wrp7v5UBIV6IvRXVGGAG=s64",
      "userId": "18137918880287519581"
     },
     "user_tz": -330
    },
    "id": "y5TEw-eVm_V7",
    "outputId": "58ed8233-f829-4142-ce49-8a81585452c1"
   },
   "outputs": [
    {
     "name": "stdout",
     "output_type": "stream",
     "text": [
      "Mean Absolute Error: 4.499776227721669\n"
     ]
    }
   ],
   "source": [
    "rf_model = RandomForestRegressor(max_depth=2, random_state=0, n_estimators=100)\n",
    "rf_model = rf_model.fit(X_train, np.log(y_train))\n",
    "pred = rf_model.predict(X_test)\n",
    "print(\"Mean Absolute Error: \" + str(mean_absolute_error(y_test, np.exp(pred))))"
   ]
  },
  {
   "cell_type": "code",
   "execution_count": 12,
   "metadata": {
    "colab": {},
    "colab_type": "code",
    "id": "p5Jp9ZjcpI-i"
   },
   "outputs": [],
   "source": [
    "from sklearn.model_selection import RandomizedSearchCV\n",
    "n_estimators = [int(x) for x in np.linspace(start = 10, stop = 1000, num = 10)]\n",
    "bootstrap = [True, False]\n",
    "criterion = ['absolute_error']\n",
    "max_features = ['sqrt', 'auto', 'log2']\n",
    "min_samples_split = [2, 5, 7, 10]\n",
    "min_samples_leaf = [1, 2, 4, 5]\n",
    "max_depth = [int(x) for x in np.linspace(10, 100, num = 10)]\n",
    "max_depth.append(None)\n",
    "\n",
    "rf_grid = {'n_estimators': n_estimators,\n",
    "            'bootstrap': bootstrap,\n",
    "            'criterion': criterion,\n",
    "            'max_features': max_features,\n",
    "            'min_samples_split': min_samples_split,\n",
    "            'min_samples_leaf': min_samples_leaf,\n",
    "            'max_depth': max_depth}"
   ]
  },
  {
   "cell_type": "code",
   "execution_count": 13,
   "metadata": {
    "colab": {
     "base_uri": "https://localhost:8080/",
     "height": 185
    },
    "colab_type": "code",
    "executionInfo": {
     "elapsed": 2334608,
     "status": "ok",
     "timestamp": 1593605068416,
     "user": {
      "displayName": "Ankit Jain",
      "photoUrl": "https://lh3.googleusercontent.com/a-/AOh14GgzuKnJrcmMfm2R-Tq5Wrp7v5UBIV6IvRXVGGAG=s64",
      "userId": "18137918880287519581"
     },
     "user_tz": -330
    },
    "id": "NcWQugT8zPio",
    "outputId": "084419df-a5fd-45ab-b2d3-f906436c9930"
   },
   "outputs": [
    {
     "name": "stdout",
     "output_type": "stream",
     "text": [
      "Mean Absolute Error: 3.8962102613738594\n"
     ]
    }
   ],
   "source": [
    "rf_model_tuned = RandomizedSearchCV(estimator=RandomForestRegressor(), param_distributions=rf_grid, n_iter=100, cv=3, random_state=42, n_jobs=-1)\n",
    "rf_model_tuned.fit(X_train, np.log(y_train))\n",
    "predictions = rf_model_tuned.predict(X_test)\n",
    "print(\"Mean Absolute Error: \" + str(mean_absolute_error(y_test, np.exp(predictions))))"
   ]
  },
  {
   "cell_type": "code",
   "execution_count": 14,
   "metadata": {
    "colab": {
     "base_uri": "https://localhost:8080/",
     "height": 70
    },
    "colab_type": "code",
    "executionInfo": {
     "elapsed": 886,
     "status": "ok",
     "timestamp": 1594043925526,
     "user": {
      "displayName": "Ankit Jain",
      "photoUrl": "https://lh3.googleusercontent.com/a-/AOh14GgzuKnJrcmMfm2R-Tq5Wrp7v5UBIV6IvRXVGGAG=s64",
      "userId": "18137918880287519581"
     },
     "user_tz": -330
    },
    "id": "koBBChKPnlUK",
    "outputId": "057b3880-a535-46d2-9d0c-2fe940ad998a"
   },
   "outputs": [],
   "source": [
    "rf_model = '../Desktop/rf_bmi_model_tuned'\n",
    "joblib.dump(rf_model_tuned, rf_model)\n",
    "model = joblib.load(rf_model)"
   ]
  },
  {
   "cell_type": "code",
   "execution_count": 15,
   "metadata": {
    "colab": {},
    "colab_type": "code",
    "id": "wCx5OSwk3ZzF"
   },
   "outputs": [],
   "source": [
    "def predict_bmi(X_images, model):\n",
    "    X = np.expand_dims(np.array(face_into_encoding(X_images)), axis=0)\n",
    "    log_value = model.predict(X)\n",
    "    bmi = np.exp(log_value)\n",
    "    return bmi"
   ]
  },
  {
   "cell_type": "code",
   "execution_count": 30,
   "metadata": {
    "cellView": "both",
    "colab": {
     "base_uri": "https://localhost:8080/",
     "height": 1000,
     "referenced_widgets": [
      "438d60da6b694854b93e269aae3852a2",
      "b648c0cbd65740008bac23fd681c9027",
      "0a25c9ee2e81464f92998c0349d1e7c5",
      "b5f53889298b4a4ba46fd14aa44b89d2",
      "c64407402f9c4cd3aa86f5f6163b61f7",
      "f7caed2e611d417a8390c64d4433e2ff",
      "bacb5640ab9947f3bf0fdd50696e45c4",
      "57c1e10c61f743a881b6229d2aa3ec64",
      "8fbe3ded95cd483d990a7baab4e2109c",
      "f1ee28cd3ea447b4a728aa0b7d5b6e02",
      "f439017b62f54c56a63ce62a91eddf2c",
      "25a9be1c3213484d9ba29ed64e5618b0",
      "8a1b7002d74f4c659a5367fa01d1e454",
      "d926193be3324b2f977d63c494e54fd6",
      "5b33bcdf98aa44fbbb984223d03a017c",
      "9426439d814a4c6ca995f7501903a82b"
     ]
    },
    "colab_type": "code",
    "executionInfo": {
     "elapsed": 31080,
     "status": "ok",
     "timestamp": 1594043955749,
     "user": {
      "displayName": "Ankit Jain",
      "photoUrl": "https://lh3.googleusercontent.com/a-/AOh14GgzuKnJrcmMfm2R-Tq5Wrp7v5UBIV6IvRXVGGAG=s64",
      "userId": "18137918880287519581"
     },
     "user_tz": -330
    },
    "id": "zRyLz4tk4PSd",
    "outputId": "12b61601-9828-432b-d895-eeb2aaf22086"
   },
   "outputs": [
    {
     "data": {
      "application/vnd.jupyter.widget-view+json": {
       "model_id": "1ddf5961eaa24e46bc8560d5e50fc9e7",
       "version_major": 2,
       "version_minor": 0
      },
      "text/plain": [
       "Image(value=b'\\xff\\xd8\\xff\\xe1\\x00\\x18Exif\\x00\\x00II*\\x00\\x08\\x00\\x00\\x00\\x00\\x00\\x00\\x00\\x00\\x00\\x00\\x00\\xff\\…"
      ]
     },
     "metadata": {},
     "output_type": "display_data"
    },
    {
     "name": "stdout",
     "output_type": "stream",
     "text": [
      "Your BMI is: [30.86486546]kg/m2\n"
     ]
    },
    {
     "data": {
      "application/vnd.jupyter.widget-view+json": {
       "model_id": "428e887fa18d42b496a940a720ca5ddd",
       "version_major": 2,
       "version_minor": 0
      },
      "text/plain": [
       "Image(value=b'\\xff\\xd8\\xff\\xe0\\x00\\x10JFIF\\x00\\x01\\x01\\x00\\x00\\x01\\x00\\x01\\x00\\x00\\xff\\xfe\\x00;CREATOR: gd-jpe…"
      ]
     },
     "metadata": {},
     "output_type": "display_data"
    },
    {
     "name": "stdout",
     "output_type": "stream",
     "text": [
      "Your BMI is: [22.394855]kg/m2\n"
     ]
    },
    {
     "data": {
      "application/vnd.jupyter.widget-view+json": {
       "model_id": "12924681834c4777bdba0860adadb644",
       "version_major": 2,
       "version_minor": 0
      },
      "text/plain": [
       "Image(value=b'\\xff\\xd8\\xff\\xe0\\x00\\x10JFIF\\x00\\x01\\x01\\x00\\x00\\x01\\x00\\x01\\x00\\x00\\xff\\xdb\\x00C\\x00\\x06\\x04\\x0…"
      ]
     },
     "metadata": {},
     "output_type": "display_data"
    },
    {
     "name": "stdout",
     "output_type": "stream",
     "text": [
      "Your BMI is: [24.4629541]kg/m2\n"
     ]
    },
    {
     "data": {
      "application/vnd.jupyter.widget-view+json": {
       "model_id": "e7989200c08d46ce821f04c82bfc825b",
       "version_major": 2,
       "version_minor": 0
      },
      "text/plain": [
       "Image(value=b'\\xff\\xd8\\xff\\xe0\\x00\\x10JFIF\\x00\\x01\\x01\\x00\\x00\\x01\\x00\\x01\\x00\\x00\\xff\\xdb\\x00C\\x00\\x06\\x04\\x0…"
      ]
     },
     "metadata": {},
     "output_type": "display_data"
    },
    {
     "name": "stdout",
     "output_type": "stream",
     "text": [
      "Your BMI is: [21.28237282]kg/m2\n",
      "skipped../Desktop/ttrial/aflek.jpg\n"
     ]
    },
    {
     "data": {
      "application/vnd.jupyter.widget-view+json": {
       "model_id": "3260456e1bfb4429bbc14f6a861d8543",
       "version_major": 2,
       "version_minor": 0
      },
      "text/plain": [
       "Image(value=b'\\xff\\xd8\\xff\\xdb\\x00C\\x00\\x06\\x04\\x05\\x06\\x05\\x04\\x06\\x06\\x05\\x06\\x07\\x07\\x06\\x08\\n\\x10\\n\\n\\t\\t\\…"
      ]
     },
     "metadata": {},
     "output_type": "display_data"
    },
    {
     "name": "stdout",
     "output_type": "stream",
     "text": [
      "Your BMI is: [21.39945117]kg/m2\n"
     ]
    },
    {
     "data": {
      "application/vnd.jupyter.widget-view+json": {
       "model_id": "ba922c670ac5463ab8d925a0bb5614d3",
       "version_major": 2,
       "version_minor": 0
      },
      "text/plain": [
       "Image(value=b'\\x89PNG\\r\\n\\x1a\\n\\x00\\x00\\x00\\rIHDR\\x00\\x00\\x011\\x00\\x00\\x00\\xcc\\x08\\x02\\x00\\x00\\x00\\x94|\\x03L\\x…"
      ]
     },
     "metadata": {},
     "output_type": "display_data"
    },
    {
     "name": "stdout",
     "output_type": "stream",
     "text": [
      "Your BMI is: [20.3199173]kg/m2\n"
     ]
    },
    {
     "data": {
      "application/vnd.jupyter.widget-view+json": {
       "model_id": "e8a9e222d6a54ab390adb781057ebbd2",
       "version_major": 2,
       "version_minor": 0
      },
      "text/plain": [
       "Image(value=b'\\x89PNG\\r\\n\\x1a\\n\\x00\\x00\\x00\\rIHDR\\x00\\x00\\x00\\xfe\\x00\\x00\\x00\\xfc\\x08\\x02\\x00\\x00\\x00\\xd8<\\x8e…"
      ]
     },
     "metadata": {},
     "output_type": "display_data"
    },
    {
     "name": "stdout",
     "output_type": "stream",
     "text": [
      "Your BMI is: [22.43939489]kg/m2\n"
     ]
    },
    {
     "data": {
      "application/vnd.jupyter.widget-view+json": {
       "model_id": "a070c89345804cd28a0b671692496673",
       "version_major": 2,
       "version_minor": 0
      },
      "text/plain": [
       "Image(value=b'\\x89PNG\\r\\n\\x1a\\n\\x00\\x00\\x00\\rIHDR\\x00\\x00\\x00\\xfb\\x00\\x00\\x00\\xfc\\x08\\x02\\x00\\x00\\x00>\\x15EI\\x…"
      ]
     },
     "metadata": {},
     "output_type": "display_data"
    },
    {
     "name": "stdout",
     "output_type": "stream",
     "text": [
      "Your BMI is: [20.28298969]kg/m2\n"
     ]
    },
    {
     "data": {
      "application/vnd.jupyter.widget-view+json": {
       "model_id": "d10a91485f06451689b43656fd1eba94",
       "version_major": 2,
       "version_minor": 0
      },
      "text/plain": [
       "Image(value=b'\\x89PNG\\r\\n\\x1a\\n\\x00\\x00\\x00\\rIHDR\\x00\\x00\\x00\\xfe\\x00\\x00\\x00\\xfc\\x08\\x02\\x00\\x00\\x00\\xd8<\\x8e…"
      ]
     },
     "metadata": {},
     "output_type": "display_data"
    },
    {
     "name": "stdout",
     "output_type": "stream",
     "text": [
      "Your BMI is: [23.2440152]kg/m2\n"
     ]
    },
    {
     "data": {
      "application/vnd.jupyter.widget-view+json": {
       "model_id": "a5f7a4aef9314088a7cd82f639e647ed",
       "version_major": 2,
       "version_minor": 0
      },
      "text/plain": [
       "Image(value=b'\\xff\\xd8\\xff\\xe0\\x00\\x10JFIF\\x00\\x01\\x01\\x00\\x00\\x01\\x00\\x01\\x00\\x00\\xff\\xdb\\x00\\x84\\x00\\x06\\x06…"
      ]
     },
     "metadata": {},
     "output_type": "display_data"
    },
    {
     "name": "stdout",
     "output_type": "stream",
     "text": [
      "Your BMI is: [25.18858406]kg/m2\n"
     ]
    },
    {
     "data": {
      "application/vnd.jupyter.widget-view+json": {
       "model_id": "41abaaeea7054e8483c8a9764c384d73",
       "version_major": 2,
       "version_minor": 0
      },
      "text/plain": [
       "Image(value=b'\\xff\\xd8\\xff\\xe0\\x00\\x10JFIF\\x00\\x01\\x01\\x00\\x00\\x01\\x00\\x01\\x00\\x00\\xff\\xdb\\x00\\x84\\x00\\x06\\x06…"
      ]
     },
     "metadata": {},
     "output_type": "display_data"
    },
    {
     "name": "stdout",
     "output_type": "stream",
     "text": [
      "Your BMI is: [26.85373763]kg/m2\n"
     ]
    },
    {
     "data": {
      "application/vnd.jupyter.widget-view+json": {
       "model_id": "ad5d4f90d5244f61aaffea567c970fc4",
       "version_major": 2,
       "version_minor": 0
      },
      "text/plain": [
       "Image(value=b'\\xff\\xd8\\xff\\xe0\\x00\\x10JFIF\\x00\\x01\\x01\\x00\\x00\\x01\\x00\\x01\\x00\\x00\\xff\\xdb\\x00\\x84\\x00\\x06\\x06…"
      ]
     },
     "metadata": {},
     "output_type": "display_data"
    },
    {
     "name": "stdout",
     "output_type": "stream",
     "text": [
      "Your BMI is: [25.32905831]kg/m2\n"
     ]
    },
    {
     "data": {
      "application/vnd.jupyter.widget-view+json": {
       "model_id": "531491ab55a844c8a2142741014c8fb6",
       "version_major": 2,
       "version_minor": 0
      },
      "text/plain": [
       "Image(value=b'\\xff\\xd8\\xff\\xe0\\x00\\x10JFIF\\x00\\x01\\x01\\x00\\x00\\x01\\x00\\x01\\x00\\x00\\xff\\xdb\\x00\\x84\\x00\\x06\\x06…"
      ]
     },
     "metadata": {},
     "output_type": "display_data"
    },
    {
     "name": "stdout",
     "output_type": "stream",
     "text": [
      "Your BMI is: [25.84922015]kg/m2\n"
     ]
    },
    {
     "data": {
      "application/vnd.jupyter.widget-view+json": {
       "model_id": "cddd68f2d1d24032a81d4ab1399fc0e5",
       "version_major": 2,
       "version_minor": 0
      },
      "text/plain": [
       "Image(value=b'\\xff\\xd8\\xff\\xe0\\x00\\x10JFIF\\x00\\x01\\x01\\x00\\x00\\x01\\x00\\x01\\x00\\x00\\xff\\xdb\\x00\\x84\\x00\\x06\\x06…"
      ]
     },
     "metadata": {},
     "output_type": "display_data"
    },
    {
     "name": "stdout",
     "output_type": "stream",
     "text": [
      "Your BMI is: [26.93088643]kg/m2\n"
     ]
    },
    {
     "data": {
      "application/vnd.jupyter.widget-view+json": {
       "model_id": "0df3ea1697f84d7d8328942ccb432c64",
       "version_major": 2,
       "version_minor": 0
      },
      "text/plain": [
       "Image(value=b'\\xff\\xd8\\xff\\xe0\\x00\\x10JFIF\\x00\\x01\\x01\\x00\\x00\\x01\\x00\\x01\\x00\\x00\\xff\\xe2\\x02(ICC_PROFILE\\x00…"
      ]
     },
     "metadata": {},
     "output_type": "display_data"
    },
    {
     "name": "stdout",
     "output_type": "stream",
     "text": [
      "Your BMI is: [23.12715863]kg/m2\n"
     ]
    },
    {
     "data": {
      "application/vnd.jupyter.widget-view+json": {
       "model_id": "e39b77134dda4e84a334a14d0655c51a",
       "version_major": 2,
       "version_minor": 0
      },
      "text/plain": [
       "Image(value=b'\\xff\\xd8\\xff\\xe0\\x00\\x10JFIF\\x00\\x01\\x01\\x00\\x00\\x01\\x00\\x01\\x00\\x00\\xff\\xe2\\x02(ICC_PROFILE\\x00…"
      ]
     },
     "metadata": {},
     "output_type": "display_data"
    },
    {
     "name": "stdout",
     "output_type": "stream",
     "text": [
      "Your BMI is: [26.9825588]kg/m2\n"
     ]
    },
    {
     "data": {
      "application/vnd.jupyter.widget-view+json": {
       "model_id": "ee31edd09b7b497cb18a44e3bee86a8e",
       "version_major": 2,
       "version_minor": 0
      },
      "text/plain": [
       "Image(value=b'\\xff\\xd8\\xff\\xe0\\x00\\x10JFIF\\x00\\x01\\x01\\x00\\x00\\x01\\x00\\x01\\x00\\x00\\xff\\xed\\x006Photoshop 3.0\\x…"
      ]
     },
     "metadata": {},
     "output_type": "display_data"
    },
    {
     "name": "stdout",
     "output_type": "stream",
     "text": [
      "Your BMI is: [24.8755499]kg/m2\n"
     ]
    },
    {
     "data": {
      "application/vnd.jupyter.widget-view+json": {
       "model_id": "70ac8389a8484656a871bf70c652ef50",
       "version_major": 2,
       "version_minor": 0
      },
      "text/plain": [
       "Image(value=b'\\xff\\xd8\\xff\\xe0\\x00\\x10JFIF\\x00\\x01\\x01\\x01\\x00H\\x00H\\x00\\x00\\xff\\xe2\\x0cXICC_PROFILE\\x00\\x01\\x…"
      ]
     },
     "metadata": {},
     "output_type": "display_data"
    },
    {
     "name": "stdout",
     "output_type": "stream",
     "text": [
      "Your BMI is: [21.10144999]kg/m2\n"
     ]
    },
    {
     "data": {
      "application/vnd.jupyter.widget-view+json": {
       "model_id": "e72824ba84e84820851cd963987cf860",
       "version_major": 2,
       "version_minor": 0
      },
      "text/plain": [
       "Image(value=b'\\xff\\xd8\\xff\\xe0\\x00\\x10JFIF\\x00\\x01\\x01\\x00\\x00\\x01\\x00\\x01\\x00\\x00\\xff\\xe2\\x02\\x1cICC_PROFILE\\…"
      ]
     },
     "metadata": {},
     "output_type": "display_data"
    },
    {
     "name": "stdout",
     "output_type": "stream",
     "text": [
      "Your BMI is: [22.17543068]kg/m2\n"
     ]
    },
    {
     "data": {
      "application/vnd.jupyter.widget-view+json": {
       "model_id": "48abaee79ede41fdb60e696f7ecb007b",
       "version_major": 2,
       "version_minor": 0
      },
      "text/plain": [
       "Image(value=b'\\xff\\xd8\\xff\\xe0\\x00\\x10JFIF\\x00\\x01\\x01\\x01\\x01\\xf4\\x01\\xf4\\x00\\x00\\xff\\xe1\\x11\\x9eExif\\x00\\x00…"
      ]
     },
     "metadata": {},
     "output_type": "display_data"
    },
    {
     "name": "stdout",
     "output_type": "stream",
     "text": [
      "Your BMI is: [19.96507315]kg/m2\n"
     ]
    },
    {
     "data": {
      "application/vnd.jupyter.widget-view+json": {
       "model_id": "a4045f0252414b238d33b211e0147029",
       "version_major": 2,
       "version_minor": 0
      },
      "text/plain": [
       "Image(value=b'\\x89PNG\\r\\n\\x1a\\n\\x00\\x00\\x00\\rIHDR\\x00\\x00\\x01\\xe8\\x00\\x00\\x02\\x07\\x08\\x02\\x00\\x00\\x00\\xdb\\xc8X…"
      ]
     },
     "metadata": {},
     "output_type": "display_data"
    },
    {
     "name": "stdout",
     "output_type": "stream",
     "text": [
      "Your BMI is: [25.21225236]kg/m2\n"
     ]
    },
    {
     "data": {
      "application/vnd.jupyter.widget-view+json": {
       "model_id": "4011f25413e04b1dada1da3412dc18a2",
       "version_major": 2,
       "version_minor": 0
      },
      "text/plain": [
       "Image(value=b'\\xff\\xd8\\xff\\xe0\\x00\\x10JFIF\\x00\\x01\\x01\\x00\\x00\\x01\\x00\\x01\\x00\\x00\\xff\\xdb\\x00C\\x00\\x02\\x01\\x0…"
      ]
     },
     "metadata": {},
     "output_type": "display_data"
    },
    {
     "name": "stdout",
     "output_type": "stream",
     "text": [
      "Your BMI is: [28.44297224]kg/m2\n"
     ]
    },
    {
     "data": {
      "application/vnd.jupyter.widget-view+json": {
       "model_id": "57078d8bae1a4c4b983e87b1a75d3b5e",
       "version_major": 2,
       "version_minor": 0
      },
      "text/plain": [
       "Image(value=b'\\xff\\xd8\\xff\\xe0\\x00\\x10JFIF\\x00\\x01\\x01\\x00\\x00\\x01\\x00\\x01\\x00\\x00\\xff\\xfe\\x00\\x15resizeLambda…"
      ]
     },
     "metadata": {},
     "output_type": "display_data"
    },
    {
     "name": "stdout",
     "output_type": "stream",
     "text": [
      "Your BMI is: [24.28855161]kg/m2\n"
     ]
    },
    {
     "data": {
      "application/vnd.jupyter.widget-view+json": {
       "model_id": "44e36409aca84011836f2676a2e0cd93",
       "version_major": 2,
       "version_minor": 0
      },
      "text/plain": [
       "Image(value=b'\\xff\\xd8\\xff\\xe0\\x00\\x10JFIF\\x00\\x01\\x01\\x00\\x00\\x01\\x00\\x01\\x00\\x00\\xff\\xdb\\x00C\\x00\\x02\\x01\\x0…"
      ]
     },
     "metadata": {},
     "output_type": "display_data"
    },
    {
     "name": "stdout",
     "output_type": "stream",
     "text": [
      "Your BMI is: [26.29356393]kg/m2\n"
     ]
    },
    {
     "data": {
      "application/vnd.jupyter.widget-view+json": {
       "model_id": "e8beedaa71e548b88c41221b78fe81df",
       "version_major": 2,
       "version_minor": 0
      },
      "text/plain": [
       "Image(value=b'\\xff\\xd8\\xff\\xe0\\x00\\x10JFIF\\x00\\x01\\x01\\x00\\x00\\x01\\x00\\x01\\x00\\x00\\xff\\xdb\\x00C\\x00\\x03\\x02\\x0…"
      ]
     },
     "metadata": {},
     "output_type": "display_data"
    },
    {
     "name": "stdout",
     "output_type": "stream",
     "text": [
      "Your BMI is: [26.36473616]kg/m2\n"
     ]
    },
    {
     "data": {
      "application/vnd.jupyter.widget-view+json": {
       "model_id": "e0cb1b3ec6a0461394e70b3d12586cc3",
       "version_major": 2,
       "version_minor": 0
      },
      "text/plain": [
       "Image(value=b'\\xff\\xd8\\xff\\xe0\\x00\\x10JFIF\\x00\\x01\\x01\\x01\\x00H\\x00H\\x00\\x00\\xff\\xfe\\x00 Generated by  IJG JPE…"
      ]
     },
     "metadata": {},
     "output_type": "display_data"
    },
    {
     "name": "stdout",
     "output_type": "stream",
     "text": [
      "Your BMI is: [28.40974882]kg/m2\n"
     ]
    },
    {
     "data": {
      "application/vnd.jupyter.widget-view+json": {
       "model_id": "a1f63689952d46ca805f74516d547080",
       "version_major": 2,
       "version_minor": 0
      },
      "text/plain": [
       "Image(value=b'\\xff\\xd8\\xff\\xe0\\x00\\x10JFIF\\x00\\x01\\x01\\x00\\x00\\x01\\x00\\x01\\x00\\x00\\xff\\xdb\\x00C\\x00\\x02\\x01\\x0…"
      ]
     },
     "metadata": {},
     "output_type": "display_data"
    },
    {
     "name": "stdout",
     "output_type": "stream",
     "text": [
      "Your BMI is: [27.72927839]kg/m2\n"
     ]
    },
    {
     "data": {
      "application/vnd.jupyter.widget-view+json": {
       "model_id": "3694d8bb642d4426892ce96299e57e6d",
       "version_major": 2,
       "version_minor": 0
      },
      "text/plain": [
       "Image(value=b'\\xff\\xd8\\xff\\xe0\\x00\\x10JFIF\\x00\\x01\\x02\\x00\\x00\\x01\\x00\\x01\\x00\\x00\\xff\\xdb\\x00\\x84\\x00\\x03\\x02…"
      ]
     },
     "metadata": {},
     "output_type": "display_data"
    },
    {
     "name": "stdout",
     "output_type": "stream",
     "text": [
      "Your BMI is: [31.36593651]kg/m2\n"
     ]
    },
    {
     "data": {
      "application/vnd.jupyter.widget-view+json": {
       "model_id": "6225c8e9e0fd4804bf338ddbdad30a1e",
       "version_major": 2,
       "version_minor": 0
      },
      "text/plain": [
       "Image(value=b'\\xff\\xd8\\xff\\xe0\\x00\\x10JFIF\\x00\\x01\\x02\\x00\\x00\\x01\\x00\\x01\\x00\\x00\\xff\\xdb\\x00\\x84\\x00\\x03\\x02…"
      ]
     },
     "metadata": {},
     "output_type": "display_data"
    },
    {
     "name": "stdout",
     "output_type": "stream",
     "text": [
      "Your BMI is: [30.47832615]kg/m2\n"
     ]
    },
    {
     "data": {
      "application/vnd.jupyter.widget-view+json": {
       "model_id": "beb0743714ce4efb8ca6c1f59bed5b1c",
       "version_major": 2,
       "version_minor": 0
      },
      "text/plain": [
       "Image(value=b'\\xff\\xd8\\xff\\xe0\\x00\\x10JFIF\\x00\\x01\\x02\\x00\\x00\\x01\\x00\\x01\\x00\\x00\\xff\\xdb\\x00\\x84\\x00\\x03\\x02…"
      ]
     },
     "metadata": {},
     "output_type": "display_data"
    },
    {
     "name": "stdout",
     "output_type": "stream",
     "text": [
      "Your BMI is: [26.35636543]kg/m2\n"
     ]
    },
    {
     "data": {
      "application/vnd.jupyter.widget-view+json": {
       "model_id": "314359c1dbba429fb35d563b3360219d",
       "version_major": 2,
       "version_minor": 0
      },
      "text/plain": [
       "Image(value=b'\\xff\\xd8\\xff\\xe0\\x00\\x10JFIF\\x00\\x01\\x01\\x01\\x00H\\x00H\\x00\\x00\\xff\\xdb\\x00C\\x00\\x05\\x04\\x04\\x05\\…"
      ]
     },
     "metadata": {},
     "output_type": "display_data"
    },
    {
     "name": "stdout",
     "output_type": "stream",
     "text": [
      "Your BMI is: [31.39265973]kg/m2\n"
     ]
    },
    {
     "data": {
      "application/vnd.jupyter.widget-view+json": {
       "model_id": "5b2fefb795564dd5bb778143cc526a96",
       "version_major": 2,
       "version_minor": 0
      },
      "text/plain": [
       "Image(value=b'\\xff\\xd8\\xff\\xe1\\x00\\x18Exif\\x00\\x00II*\\x00\\x08\\x00\\x00\\x00\\x00\\x00\\x00\\x00\\x00\\x00\\x00\\x00\\xff\\…"
      ]
     },
     "metadata": {},
     "output_type": "display_data"
    },
    {
     "name": "stdout",
     "output_type": "stream",
     "text": [
      "Your BMI is: [30.73061257]kg/m2\n"
     ]
    },
    {
     "data": {
      "application/vnd.jupyter.widget-view+json": {
       "model_id": "e16cc951115a4176b120805d4c497160",
       "version_major": 2,
       "version_minor": 0
      },
      "text/plain": [
       "Image(value=b'\\xff\\xd8\\xff\\xe0\\x00\\x10JFIF\\x00\\x01\\x01\\x01\\x00;\\x00;\\x00\\x00\\xff\\xdb\\x00C\\x00\\x06\\x04\\x05\\x06\\…"
      ]
     },
     "metadata": {},
     "output_type": "display_data"
    },
    {
     "name": "stdout",
     "output_type": "stream",
     "text": [
      "Your BMI is: [30.43985869]kg/m2\n"
     ]
    },
    {
     "data": {
      "application/vnd.jupyter.widget-view+json": {
       "model_id": "e4f395f9a8b1436b8ac440bb61e90cd2",
       "version_major": 2,
       "version_minor": 0
      },
      "text/plain": [
       "Image(value=b'\\xff\\xd8\\xff\\xe0\\x00\\x10JFIF\\x00\\x01\\x01\\x00\\x00\\x01\\x00\\x01\\x00\\x00\\xff\\xdb\\x00\\x84\\x00\\x05\\x03…"
      ]
     },
     "metadata": {},
     "output_type": "display_data"
    },
    {
     "name": "stdout",
     "output_type": "stream",
     "text": [
      "Your BMI is: [32.61736355]kg/m2\n"
     ]
    },
    {
     "data": {
      "application/vnd.jupyter.widget-view+json": {
       "model_id": "78f4f10c4e1a4d9d9b5cb722fa9af22c",
       "version_major": 2,
       "version_minor": 0
      },
      "text/plain": [
       "Image(value=b'\\xff\\xd8\\xff\\xe0\\x00\\x10JFIF\\x00\\x01\\x01\\x01\\x01,\\x01,\\x00\\x00\\xff\\xe1\\x00\\xc0Exif\\x00\\x00II*\\x0…"
      ]
     },
     "metadata": {},
     "output_type": "display_data"
    },
    {
     "name": "stdout",
     "output_type": "stream",
     "text": [
      "Your BMI is: [30.65235752]kg/m2\n"
     ]
    },
    {
     "data": {
      "application/vnd.jupyter.widget-view+json": {
       "model_id": "6ff3696c6a4d4390ac8222d84112eba4",
       "version_major": 2,
       "version_minor": 0
      },
      "text/plain": [
       "Image(value=b'\\x89PNG\\r\\n\\x1a\\n\\x00\\x00\\x00\\rIHDR\\x00\\x00\\x038\\x00\\x00\\x02\\x00\\x08\\x02\\x00\\x00\\x00\\xc1\\xb0^\\xa…"
      ]
     },
     "metadata": {},
     "output_type": "display_data"
    },
    {
     "name": "stdout",
     "output_type": "stream",
     "text": [
      "Your BMI is: [26.52268548]kg/m2\n"
     ]
    },
    {
     "data": {
      "application/vnd.jupyter.widget-view+json": {
       "model_id": "aad474144d934eef9bcbb1c20848b873",
       "version_major": 2,
       "version_minor": 0
      },
      "text/plain": [
       "Image(value=b'\\xff\\xd8\\xff\\xe0\\x00\\x10JFIF\\x00\\x01\\x01\\x00\\x00\\x01\\x00\\x01\\x00\\x00\\xff\\xdb\\x00C\\x00\\x02\\x01\\x0…"
      ]
     },
     "metadata": {},
     "output_type": "display_data"
    },
    {
     "name": "stdout",
     "output_type": "stream",
     "text": [
      "Your BMI is: [27.55353738]kg/m2\n"
     ]
    },
    {
     "data": {
      "application/vnd.jupyter.widget-view+json": {
       "model_id": "43308aca3f0b49ee893bb8332c53f877",
       "version_major": 2,
       "version_minor": 0
      },
      "text/plain": [
       "Image(value=b'\\xff\\xd8\\xff\\xe0\\x00\\x10JFIF\\x00\\x01\\x01\\x00\\x00\\x01\\x00\\x01\\x00\\x00\\xff\\xdb\\x00C\\x00\\x08\\x06\\x0…"
      ]
     },
     "metadata": {},
     "output_type": "display_data"
    },
    {
     "name": "stdout",
     "output_type": "stream",
     "text": [
      "Your BMI is: [20.46332279]kg/m2\n"
     ]
    },
    {
     "data": {
      "application/vnd.jupyter.widget-view+json": {
       "model_id": "61285b5f4a11412d8285083a6d00348b",
       "version_major": 2,
       "version_minor": 0
      },
      "text/plain": [
       "Image(value=b'\\xff\\xd8\\xff\\xe0\\x00\\x10JFIF\\x00\\x01\\x01\\x00\\x00\\x01\\x00\\x01\\x00\\x00\\xff\\xdb\\x00\\x84\\x00\\x06\\x06…"
      ]
     },
     "metadata": {},
     "output_type": "display_data"
    },
    {
     "name": "stdout",
     "output_type": "stream",
     "text": [
      "Your BMI is: [26.86910546]kg/m2\n"
     ]
    },
    {
     "data": {
      "application/vnd.jupyter.widget-view+json": {
       "model_id": "ba53ed2f603f458f8ab878072fa5b889",
       "version_major": 2,
       "version_minor": 0
      },
      "text/plain": [
       "Image(value=b'\\xff\\xd8\\xff\\xe0\\x00\\x10JFIF\\x00\\x01\\x01\\x01\\x01,\\x01,\\x00\\x00\\xff\\xe1\\x00aExif\\x00\\x00II*\\x00\\x…"
      ]
     },
     "metadata": {},
     "output_type": "display_data"
    },
    {
     "name": "stdout",
     "output_type": "stream",
     "text": [
      "Your BMI is: [23.70977765]kg/m2\n"
     ]
    },
    {
     "data": {
      "application/vnd.jupyter.widget-view+json": {
       "model_id": "b6a866d645534b1b8b6e8bb0403749e8",
       "version_major": 2,
       "version_minor": 0
      },
      "text/plain": [
       "Image(value=b'\\xff\\xd8\\xff\\xdb\\x00C\\x00\\x06\\x04\\x05\\x06\\x05\\x04\\x06\\x06\\x05\\x06\\x07\\x07\\x06\\x08\\n\\x10\\n\\n\\t\\t\\…"
      ]
     },
     "metadata": {},
     "output_type": "display_data"
    },
    {
     "name": "stdout",
     "output_type": "stream",
     "text": [
      "Your BMI is: [22.24485149]kg/m2\n"
     ]
    },
    {
     "data": {
      "application/vnd.jupyter.widget-view+json": {
       "model_id": "162f399ef6a74307a848ad68f7138ae1",
       "version_major": 2,
       "version_minor": 0
      },
      "text/plain": [
       "Image(value=b'\\xff\\xd8\\xff\\xe0\\x00\\x10JFIF\\x00\\x01\\x01\\x00\\x00\\x01\\x00\\x01\\x00\\x00\\xff\\xdb\\x00C\\x00\\x06\\x04\\x0…"
      ]
     },
     "metadata": {},
     "output_type": "display_data"
    },
    {
     "name": "stdout",
     "output_type": "stream",
     "text": [
      "Your BMI is: [23.09712265]kg/m2\n"
     ]
    },
    {
     "data": {
      "application/vnd.jupyter.widget-view+json": {
       "model_id": "11cb69a88d4d4c27866a14363c557fe7",
       "version_major": 2,
       "version_minor": 0
      },
      "text/plain": [
       "Image(value=b'\\xff\\xd8\\xff\\xe0\\x00\\x10JFIF\\x00\\x01\\x01\\x00\\x00\\x01\\x00\\x01\\x00\\x00\\xff\\xdb\\x00\\x84\\x00\\x05\\x03…"
      ]
     },
     "metadata": {},
     "output_type": "display_data"
    },
    {
     "name": "stdout",
     "output_type": "stream",
     "text": [
      "Your BMI is: [19.3226774]kg/m2\n"
     ]
    },
    {
     "data": {
      "application/vnd.jupyter.widget-view+json": {
       "model_id": "bd76fc4c544d45aeb4b5e3f0b0575b52",
       "version_major": 2,
       "version_minor": 0
      },
      "text/plain": [
       "Image(value=b'\\xff\\xd8\\xff\\xe0\\x00\\x10JFIF\\x00\\x01\\x01\\x01\\x01,\\x01,\\x00\\x00\\xff\\xe1\\x00tExif\\x00\\x00II*\\x00\\x…"
      ]
     },
     "metadata": {},
     "output_type": "display_data"
    },
    {
     "name": "stdout",
     "output_type": "stream",
     "text": [
      "Your BMI is: [24.3679716]kg/m2\n"
     ]
    },
    {
     "data": {
      "application/vnd.jupyter.widget-view+json": {
       "model_id": "1a78c1b4614045f2b7e98f6d7a039b56",
       "version_major": 2,
       "version_minor": 0
      },
      "text/plain": [
       "Image(value=b'\\xff\\xd8\\xff\\xe0\\x00\\x10JFIF\\x00\\x01\\x01\\x00\\x00\\x01\\x00\\x01\\x00\\x00\\xff\\xdb\\x00C\\x00\\x02\\x01\\x0…"
      ]
     },
     "metadata": {},
     "output_type": "display_data"
    },
    {
     "name": "stdout",
     "output_type": "stream",
     "text": [
      "Your BMI is: [25.58293827]kg/m2\n"
     ]
    }
   ],
   "source": [
    "images = os.listdir('../Desktop/ttrial')\n",
    "for img in images:\n",
    "    img_location = '../Desktop/ttrial/' + img\n",
    "    img = open(img_location, 'rb')\n",
    "    test_img = img.read()\n",
    "    preds = predict_bmi(img_location, model)\n",
    "    display(widgets.Image(value=test_img, format='jpg', width=200, height=200))\n",
    "    print(\"Your BMI is: \" + str(preds) + \"kg/m2\")"
   ]
  },
  {
   "cell_type": "code",
   "execution_count": null,
   "metadata": {},
   "outputs": [],
   "source": []
  }
 ],
 "metadata": {
  "accelerator": "GPU",
  "colab": {
   "collapsed_sections": [],
   "name": "Face_to_BMI.ipynb",
   "provenance": []
  },
  "kernelspec": {
   "display_name": "Python 3 (ipykernel)",
   "language": "python",
   "name": "python3"
  },
  "language_info": {
   "codemirror_mode": {
    "name": "ipython",
    "version": 3
   },
   "file_extension": ".py",
   "mimetype": "text/x-python",
   "name": "python",
   "nbconvert_exporter": "python",
   "pygments_lexer": "ipython3",
   "version": "3.9.7"
  },
  "widgets": {
   "application/vnd.jupyter.widget-state+json": {
    "0a25c9ee2e81464f92998c0349d1e7c5": {
     "model_module": "@jupyter-widgets/controls",
     "model_name": "ImageModel",
     "state": {
      "_dom_classes": [],
      "_model_module": "@jupyter-widgets/controls",
      "_model_module_version": "1.5.0",
      "_model_name": "ImageModel",
      "_view_count": null,
      "_view_module": "@jupyter-widgets/controls",
      "_view_module_version": "1.5.0",
      "_view_name": "ImageView",
      "format": "jpg",
      "height": "400",
      "layout": "IPY_MODEL_b5f53889298b4a4ba46fd14aa44b89d2",
      "width": "300"
     }
    },
    "25a9be1c3213484d9ba29ed64e5618b0": {
     "model_module": "@jupyter-widgets/base",
     "model_name": "LayoutModel",
     "state": {
      "_model_module": "@jupyter-widgets/base",
      "_model_module_version": "1.2.0",
      "_model_name": "LayoutModel",
      "_view_count": null,
      "_view_module": "@jupyter-widgets/base",
      "_view_module_version": "1.2.0",
      "_view_name": "LayoutView",
      "align_content": null,
      "align_items": null,
      "align_self": null,
      "border": null,
      "bottom": null,
      "display": null,
      "flex": null,
      "flex_flow": null,
      "grid_area": null,
      "grid_auto_columns": null,
      "grid_auto_flow": null,
      "grid_auto_rows": null,
      "grid_column": null,
      "grid_gap": null,
      "grid_row": null,
      "grid_template_areas": null,
      "grid_template_columns": null,
      "grid_template_rows": null,
      "height": null,
      "justify_content": null,
      "justify_items": null,
      "left": null,
      "margin": null,
      "max_height": null,
      "max_width": null,
      "min_height": null,
      "min_width": null,
      "object_fit": null,
      "object_position": null,
      "order": null,
      "overflow": null,
      "overflow_x": null,
      "overflow_y": null,
      "padding": null,
      "right": null,
      "top": null,
      "visibility": null,
      "width": null
     }
    },
    "438d60da6b694854b93e269aae3852a2": {
     "model_module": "@jupyter-widgets/controls",
     "model_name": "ImageModel",
     "state": {
      "_dom_classes": [],
      "_model_module": "@jupyter-widgets/controls",
      "_model_module_version": "1.5.0",
      "_model_name": "ImageModel",
      "_view_count": null,
      "_view_module": "@jupyter-widgets/controls",
      "_view_module_version": "1.5.0",
      "_view_name": "ImageView",
      "format": "jpg",
      "height": "400",
      "layout": "IPY_MODEL_b648c0cbd65740008bac23fd681c9027",
      "width": "300"
     }
    },
    "57c1e10c61f743a881b6229d2aa3ec64": {
     "model_module": "@jupyter-widgets/base",
     "model_name": "LayoutModel",
     "state": {
      "_model_module": "@jupyter-widgets/base",
      "_model_module_version": "1.2.0",
      "_model_name": "LayoutModel",
      "_view_count": null,
      "_view_module": "@jupyter-widgets/base",
      "_view_module_version": "1.2.0",
      "_view_name": "LayoutView",
      "align_content": null,
      "align_items": null,
      "align_self": null,
      "border": null,
      "bottom": null,
      "display": null,
      "flex": null,
      "flex_flow": null,
      "grid_area": null,
      "grid_auto_columns": null,
      "grid_auto_flow": null,
      "grid_auto_rows": null,
      "grid_column": null,
      "grid_gap": null,
      "grid_row": null,
      "grid_template_areas": null,
      "grid_template_columns": null,
      "grid_template_rows": null,
      "height": null,
      "justify_content": null,
      "justify_items": null,
      "left": null,
      "margin": null,
      "max_height": null,
      "max_width": null,
      "min_height": null,
      "min_width": null,
      "object_fit": null,
      "object_position": null,
      "order": null,
      "overflow": null,
      "overflow_x": null,
      "overflow_y": null,
      "padding": null,
      "right": null,
      "top": null,
      "visibility": null,
      "width": null
     }
    },
    "5b33bcdf98aa44fbbb984223d03a017c": {
     "model_module": "@jupyter-widgets/controls",
     "model_name": "ImageModel",
     "state": {
      "_dom_classes": [],
      "_model_module": "@jupyter-widgets/controls",
      "_model_module_version": "1.5.0",
      "_model_name": "ImageModel",
      "_view_count": null,
      "_view_module": "@jupyter-widgets/controls",
      "_view_module_version": "1.5.0",
      "_view_name": "ImageView",
      "format": "jpg",
      "height": "400",
      "layout": "IPY_MODEL_9426439d814a4c6ca995f7501903a82b",
      "width": "300"
     }
    },
    "8a1b7002d74f4c659a5367fa01d1e454": {
     "model_module": "@jupyter-widgets/controls",
     "model_name": "ImageModel",
     "state": {
      "_dom_classes": [],
      "_model_module": "@jupyter-widgets/controls",
      "_model_module_version": "1.5.0",
      "_model_name": "ImageModel",
      "_view_count": null,
      "_view_module": "@jupyter-widgets/controls",
      "_view_module_version": "1.5.0",
      "_view_name": "ImageView",
      "format": "jpg",
      "height": "400",
      "layout": "IPY_MODEL_d926193be3324b2f977d63c494e54fd6",
      "width": "300"
     }
    },
    "8fbe3ded95cd483d990a7baab4e2109c": {
     "model_module": "@jupyter-widgets/controls",
     "model_name": "ImageModel",
     "state": {
      "_dom_classes": [],
      "_model_module": "@jupyter-widgets/controls",
      "_model_module_version": "1.5.0",
      "_model_name": "ImageModel",
      "_view_count": null,
      "_view_module": "@jupyter-widgets/controls",
      "_view_module_version": "1.5.0",
      "_view_name": "ImageView",
      "format": "jpg",
      "height": "400",
      "layout": "IPY_MODEL_f1ee28cd3ea447b4a728aa0b7d5b6e02",
      "width": "300"
     }
    },
    "9426439d814a4c6ca995f7501903a82b": {
     "model_module": "@jupyter-widgets/base",
     "model_name": "LayoutModel",
     "state": {
      "_model_module": "@jupyter-widgets/base",
      "_model_module_version": "1.2.0",
      "_model_name": "LayoutModel",
      "_view_count": null,
      "_view_module": "@jupyter-widgets/base",
      "_view_module_version": "1.2.0",
      "_view_name": "LayoutView",
      "align_content": null,
      "align_items": null,
      "align_self": null,
      "border": null,
      "bottom": null,
      "display": null,
      "flex": null,
      "flex_flow": null,
      "grid_area": null,
      "grid_auto_columns": null,
      "grid_auto_flow": null,
      "grid_auto_rows": null,
      "grid_column": null,
      "grid_gap": null,
      "grid_row": null,
      "grid_template_areas": null,
      "grid_template_columns": null,
      "grid_template_rows": null,
      "height": null,
      "justify_content": null,
      "justify_items": null,
      "left": null,
      "margin": null,
      "max_height": null,
      "max_width": null,
      "min_height": null,
      "min_width": null,
      "object_fit": null,
      "object_position": null,
      "order": null,
      "overflow": null,
      "overflow_x": null,
      "overflow_y": null,
      "padding": null,
      "right": null,
      "top": null,
      "visibility": null,
      "width": null
     }
    },
    "b5f53889298b4a4ba46fd14aa44b89d2": {
     "model_module": "@jupyter-widgets/base",
     "model_name": "LayoutModel",
     "state": {
      "_model_module": "@jupyter-widgets/base",
      "_model_module_version": "1.2.0",
      "_model_name": "LayoutModel",
      "_view_count": null,
      "_view_module": "@jupyter-widgets/base",
      "_view_module_version": "1.2.0",
      "_view_name": "LayoutView",
      "align_content": null,
      "align_items": null,
      "align_self": null,
      "border": null,
      "bottom": null,
      "display": null,
      "flex": null,
      "flex_flow": null,
      "grid_area": null,
      "grid_auto_columns": null,
      "grid_auto_flow": null,
      "grid_auto_rows": null,
      "grid_column": null,
      "grid_gap": null,
      "grid_row": null,
      "grid_template_areas": null,
      "grid_template_columns": null,
      "grid_template_rows": null,
      "height": null,
      "justify_content": null,
      "justify_items": null,
      "left": null,
      "margin": null,
      "max_height": null,
      "max_width": null,
      "min_height": null,
      "min_width": null,
      "object_fit": null,
      "object_position": null,
      "order": null,
      "overflow": null,
      "overflow_x": null,
      "overflow_y": null,
      "padding": null,
      "right": null,
      "top": null,
      "visibility": null,
      "width": null
     }
    },
    "b648c0cbd65740008bac23fd681c9027": {
     "model_module": "@jupyter-widgets/base",
     "model_name": "LayoutModel",
     "state": {
      "_model_module": "@jupyter-widgets/base",
      "_model_module_version": "1.2.0",
      "_model_name": "LayoutModel",
      "_view_count": null,
      "_view_module": "@jupyter-widgets/base",
      "_view_module_version": "1.2.0",
      "_view_name": "LayoutView",
      "align_content": null,
      "align_items": null,
      "align_self": null,
      "border": null,
      "bottom": null,
      "display": null,
      "flex": null,
      "flex_flow": null,
      "grid_area": null,
      "grid_auto_columns": null,
      "grid_auto_flow": null,
      "grid_auto_rows": null,
      "grid_column": null,
      "grid_gap": null,
      "grid_row": null,
      "grid_template_areas": null,
      "grid_template_columns": null,
      "grid_template_rows": null,
      "height": null,
      "justify_content": null,
      "justify_items": null,
      "left": null,
      "margin": null,
      "max_height": null,
      "max_width": null,
      "min_height": null,
      "min_width": null,
      "object_fit": null,
      "object_position": null,
      "order": null,
      "overflow": null,
      "overflow_x": null,
      "overflow_y": null,
      "padding": null,
      "right": null,
      "top": null,
      "visibility": null,
      "width": null
     }
    },
    "bacb5640ab9947f3bf0fdd50696e45c4": {
     "model_module": "@jupyter-widgets/controls",
     "model_name": "ImageModel",
     "state": {
      "_dom_classes": [],
      "_model_module": "@jupyter-widgets/controls",
      "_model_module_version": "1.5.0",
      "_model_name": "ImageModel",
      "_view_count": null,
      "_view_module": "@jupyter-widgets/controls",
      "_view_module_version": "1.5.0",
      "_view_name": "ImageView",
      "format": "jpg",
      "height": "400",
      "layout": "IPY_MODEL_57c1e10c61f743a881b6229d2aa3ec64",
      "width": "300"
     }
    },
    "c64407402f9c4cd3aa86f5f6163b61f7": {
     "model_module": "@jupyter-widgets/controls",
     "model_name": "ImageModel",
     "state": {
      "_dom_classes": [],
      "_model_module": "@jupyter-widgets/controls",
      "_model_module_version": "1.5.0",
      "_model_name": "ImageModel",
      "_view_count": null,
      "_view_module": "@jupyter-widgets/controls",
      "_view_module_version": "1.5.0",
      "_view_name": "ImageView",
      "format": "jpg",
      "height": "400",
      "layout": "IPY_MODEL_f7caed2e611d417a8390c64d4433e2ff",
      "width": "300"
     }
    },
    "d926193be3324b2f977d63c494e54fd6": {
     "model_module": "@jupyter-widgets/base",
     "model_name": "LayoutModel",
     "state": {
      "_model_module": "@jupyter-widgets/base",
      "_model_module_version": "1.2.0",
      "_model_name": "LayoutModel",
      "_view_count": null,
      "_view_module": "@jupyter-widgets/base",
      "_view_module_version": "1.2.0",
      "_view_name": "LayoutView",
      "align_content": null,
      "align_items": null,
      "align_self": null,
      "border": null,
      "bottom": null,
      "display": null,
      "flex": null,
      "flex_flow": null,
      "grid_area": null,
      "grid_auto_columns": null,
      "grid_auto_flow": null,
      "grid_auto_rows": null,
      "grid_column": null,
      "grid_gap": null,
      "grid_row": null,
      "grid_template_areas": null,
      "grid_template_columns": null,
      "grid_template_rows": null,
      "height": null,
      "justify_content": null,
      "justify_items": null,
      "left": null,
      "margin": null,
      "max_height": null,
      "max_width": null,
      "min_height": null,
      "min_width": null,
      "object_fit": null,
      "object_position": null,
      "order": null,
      "overflow": null,
      "overflow_x": null,
      "overflow_y": null,
      "padding": null,
      "right": null,
      "top": null,
      "visibility": null,
      "width": null
     }
    },
    "f1ee28cd3ea447b4a728aa0b7d5b6e02": {
     "model_module": "@jupyter-widgets/base",
     "model_name": "LayoutModel",
     "state": {
      "_model_module": "@jupyter-widgets/base",
      "_model_module_version": "1.2.0",
      "_model_name": "LayoutModel",
      "_view_count": null,
      "_view_module": "@jupyter-widgets/base",
      "_view_module_version": "1.2.0",
      "_view_name": "LayoutView",
      "align_content": null,
      "align_items": null,
      "align_self": null,
      "border": null,
      "bottom": null,
      "display": null,
      "flex": null,
      "flex_flow": null,
      "grid_area": null,
      "grid_auto_columns": null,
      "grid_auto_flow": null,
      "grid_auto_rows": null,
      "grid_column": null,
      "grid_gap": null,
      "grid_row": null,
      "grid_template_areas": null,
      "grid_template_columns": null,
      "grid_template_rows": null,
      "height": null,
      "justify_content": null,
      "justify_items": null,
      "left": null,
      "margin": null,
      "max_height": null,
      "max_width": null,
      "min_height": null,
      "min_width": null,
      "object_fit": null,
      "object_position": null,
      "order": null,
      "overflow": null,
      "overflow_x": null,
      "overflow_y": null,
      "padding": null,
      "right": null,
      "top": null,
      "visibility": null,
      "width": null
     }
    },
    "f439017b62f54c56a63ce62a91eddf2c": {
     "model_module": "@jupyter-widgets/controls",
     "model_name": "ImageModel",
     "state": {
      "_dom_classes": [],
      "_model_module": "@jupyter-widgets/controls",
      "_model_module_version": "1.5.0",
      "_model_name": "ImageModel",
      "_view_count": null,
      "_view_module": "@jupyter-widgets/controls",
      "_view_module_version": "1.5.0",
      "_view_name": "ImageView",
      "format": "jpg",
      "height": "400",
      "layout": "IPY_MODEL_25a9be1c3213484d9ba29ed64e5618b0",
      "width": "300"
     }
    },
    "f7caed2e611d417a8390c64d4433e2ff": {
     "model_module": "@jupyter-widgets/base",
     "model_name": "LayoutModel",
     "state": {
      "_model_module": "@jupyter-widgets/base",
      "_model_module_version": "1.2.0",
      "_model_name": "LayoutModel",
      "_view_count": null,
      "_view_module": "@jupyter-widgets/base",
      "_view_module_version": "1.2.0",
      "_view_name": "LayoutView",
      "align_content": null,
      "align_items": null,
      "align_self": null,
      "border": null,
      "bottom": null,
      "display": null,
      "flex": null,
      "flex_flow": null,
      "grid_area": null,
      "grid_auto_columns": null,
      "grid_auto_flow": null,
      "grid_auto_rows": null,
      "grid_column": null,
      "grid_gap": null,
      "grid_row": null,
      "grid_template_areas": null,
      "grid_template_columns": null,
      "grid_template_rows": null,
      "height": null,
      "justify_content": null,
      "justify_items": null,
      "left": null,
      "margin": null,
      "max_height": null,
      "max_width": null,
      "min_height": null,
      "min_width": null,
      "object_fit": null,
      "object_position": null,
      "order": null,
      "overflow": null,
      "overflow_x": null,
      "overflow_y": null,
      "padding": null,
      "right": null,
      "top": null,
      "visibility": null,
      "width": null
     }
    }
   }
  }
 },
 "nbformat": 4,
 "nbformat_minor": 1
}
