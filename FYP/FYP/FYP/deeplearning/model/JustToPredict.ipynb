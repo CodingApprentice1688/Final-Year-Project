{
 "cells": [
  {
   "cell_type": "code",
   "execution_count": 1,
   "id": "fcd30436",
   "metadata": {},
   "outputs": [
    {
     "name": "stdout",
     "output_type": "stream",
     "text": [
      "Model: \"sequential_1\"\n",
      "_________________________________________________________________\n",
      " Layer (type)                Output Shape              Param #   \n",
      "=================================================================\n",
      " resnet50 (Functional)       (None, 7, 7, 2048)        23587712  \n",
      "                                                                 \n",
      " global_average_pooling2d_1   (None, 2048)             0         \n",
      " (GlobalAveragePooling2D)                                        \n",
      "                                                                 \n",
      " dropout_1 (Dropout)         (None, 2048)              0         \n",
      "                                                                 \n",
      " flatten_341 (Flatten)       (None, 2048)              0         \n",
      "                                                                 \n",
      " dense_1191 (Dense)          (None, 6)                 12294     \n",
      "                                                                 \n",
      "=================================================================\n",
      "Total params: 23,600,006\n",
      "Trainable params: 12,294\n",
      "Non-trainable params: 23,587,712\n",
      "_________________________________________________________________\n"
     ]
    }
   ],
   "source": [
    "from keras.models import load_model\n",
    "model = load_model('../../Desktop/my_model_final.h5')\n",
    "model.summary()"
   ]
  },
  {
   "cell_type": "code",
   "execution_count": 4,
   "id": "b8d351d9",
   "metadata": {},
   "outputs": [],
   "source": [
    "import os\n",
    "import numpy as np\n",
    "import pandas as pd\n",
    "import matplotlib.pyplot as plt\n",
    "from PIL import Image\n",
    "import tensorflow as tf\n",
    "from keras.layers import Conv2D, Dense, Flatten, MaxPool2D, Dropout\n",
    "from numpy import asarray\n",
    "from matplotlib import pyplot\n",
    "from mtcnn import MTCNN\n",
    "from os import listdir"
   ]
  },
  {
   "cell_type": "code",
   "execution_count": 6,
   "id": "fc8aff47",
   "metadata": {},
   "outputs": [],
   "source": [
    "def extract_face(filename, required_size=(200, 200)):\n",
    "    # load image from file\n",
    "    image = Image.open(filename)\n",
    "    image = image.convert('RGB')\n",
    "    pixels = asarray(image)\n",
    "    # use MTCNN face detector to detect faces inside the image\n",
    "    detector = MTCNN()\n",
    "    results = detector.detect_faces(pixels)\n",
    "    x1, y1, width, height = results[0]['box']\n",
    "    # bug fix\n",
    "    x1, y1 = abs(x1), abs(y1)\n",
    "    x2, y2 = x1 + width, y1 + height\n",
    "    # extract the face\n",
    "    face = pixels[y1:y2, x1:x2]\n",
    "    # resize pixels to the model size\n",
    "    image = Image.fromarray(face)\n",
    "    image = image.resize(required_size)\n",
    "    face_array = asarray(image)\n",
    "    return face_array"
   ]
  },
  {
   "cell_type": "code",
   "execution_count": 8,
   "id": "ea2f7106",
   "metadata": {},
   "outputs": [],
   "source": [
    "y_test = ['dicky', 'jonathan', 'kings', 'morgan', 'oswaldo', 'wenling']"
   ]
  },
  {
   "cell_type": "code",
   "execution_count": 9,
   "id": "7a57ed7f",
   "metadata": {},
   "outputs": [
    {
     "name": "stdout",
     "output_type": "stream",
     "text": [
      "WhatsApp Image 2022-08-12 at 11.24.35 PM (1).jpeg\n",
      "WARNING:tensorflow:5 out of the last 15 calls to <function Model.make_predict_function.<locals>.predict_function at 0x0000027703E70A60> triggered tf.function retracing. Tracing is expensive and the excessive number of tracings could be due to (1) creating @tf.function repeatedly in a loop, (2) passing tensors with different shapes, (3) passing Python objects instead of tensors. For (1), please define your @tf.function outside of the loop. For (2), @tf.function has experimental_relax_shapes=True option that relaxes argument shapes that can avoid unnecessary retracing. For (3), please refer to https://www.tensorflow.org/guide/function#controlling_retracing and https://www.tensorflow.org/api_docs/python/tf/function for  more details.\n",
      "WARNING:tensorflow:6 out of the last 16 calls to <function Model.make_predict_function.<locals>.predict_function at 0x0000027703E70A60> triggered tf.function retracing. Tracing is expensive and the excessive number of tracings could be due to (1) creating @tf.function repeatedly in a loop, (2) passing tensors with different shapes, (3) passing Python objects instead of tensors. For (1), please define your @tf.function outside of the loop. For (2), @tf.function has experimental_relax_shapes=True option that relaxes argument shapes that can avoid unnecessary retracing. For (3), please refer to https://www.tensorflow.org/guide/function#controlling_retracing and https://www.tensorflow.org/api_docs/python/tf/function for  more details.\n",
      "prediction shape: [[0.78890646 0.08139172 0.02468739 0.0065986  0.08993413 0.00848168]]\n",
      "The person is: dicky\n",
      "WhatsApp Image 2022-08-12 at 11.24.35 PM.jpeg\n",
      "prediction shape: [[0.7713925  0.02457395 0.02631062 0.00303757 0.17063922 0.00404616]]\n",
      "The person is: dicky\n",
      "WhatsApp Image 2022-08-12 at 11.24.36 PM (1).jpeg\n",
      "prediction shape: [[0.5870817  0.03466649 0.04107951 0.0113626  0.31453446 0.0112753 ]]\n",
      "The person is: dicky\n",
      "WhatsApp Image 2022-08-12 at 11.24.36 PM (2).jpeg\n",
      "prediction shape: [[0.4804286  0.14425704 0.13265622 0.01620475 0.21212274 0.01433073]]\n",
      "The person is: dicky\n",
      "WhatsApp Image 2022-08-12 at 11.24.36 PM (3).jpeg\n",
      "prediction shape: [[0.8343113  0.03320256 0.03191756 0.00458859 0.08714693 0.00883313]]\n",
      "The person is: dicky\n",
      "WhatsApp Image 2022-08-12 at 11.24.36 PM.jpeg\n",
      "prediction shape: [[0.46203274 0.07275215 0.10225943 0.04286194 0.31136054 0.00873327]]\n",
      "The person is: dicky\n",
      "WhatsApp Image 2022-08-12 at 11.24.37 PM (1).jpeg\n",
      "prediction shape: [[0.8218455  0.0665291  0.03068781 0.00366088 0.07150351 0.00577318]]\n",
      "The person is: dicky\n",
      "WhatsApp Image 2022-08-12 at 11.24.37 PM (2).jpeg\n",
      "prediction shape: [[0.7720307  0.07429785 0.04154246 0.00450105 0.09904487 0.008583  ]]\n",
      "The person is: dicky\n",
      "WhatsApp Image 2022-08-12 at 11.24.37 PM (3).jpeg\n",
      "prediction shape: [[0.8275245  0.01600337 0.06329855 0.00479936 0.08362783 0.00474641]]\n",
      "The person is: dicky\n",
      "WhatsApp Image 2022-08-12 at 11.24.37 PM.jpeg\n",
      "prediction shape: [[0.79016787 0.07352597 0.03672544 0.00294013 0.09184303 0.00479751]]\n",
      "The person is: dicky\n",
      "WhatsApp Image 2022-08-12 at 11.24.38 PM (1).jpeg\n",
      "prediction shape: [[0.69419986 0.0653841  0.06023992 0.00986613 0.15834132 0.0119687 ]]\n",
      "The person is: dicky\n",
      "WhatsApp Image 2022-08-12 at 11.24.38 PM (2).jpeg\n",
      "prediction shape: [[0.7096635  0.06291814 0.07126133 0.00699356 0.13698094 0.01218251]]\n",
      "The person is: dicky\n",
      "WhatsApp Image 2022-08-12 at 11.24.38 PM (3).jpeg\n",
      "prediction shape: [[0.5879065  0.08824716 0.05999675 0.00622184 0.2489731  0.00865477]]\n",
      "The person is: dicky\n",
      "WhatsApp Image 2022-08-12 at 11.24.38 PM.jpeg\n",
      "prediction shape: [[0.62404436 0.04349363 0.07208335 0.00668596 0.24545328 0.00823933]]\n",
      "The person is: dicky\n",
      "WhatsApp Image 2022-08-12 at 11.24.39 PM (1).jpeg\n",
      "prediction shape: [[0.50937814 0.12013525 0.09198001 0.00983135 0.2610762  0.00759905]]\n",
      "The person is: dicky\n",
      "WhatsApp Image 2022-08-12 at 11.24.39 PM (2).jpeg\n",
      "prediction shape: [[0.56198615 0.20631385 0.06298888 0.00953495 0.15325774 0.0059184 ]]\n",
      "The person is: dicky\n",
      "WhatsApp Image 2022-08-12 at 11.24.39 PM.jpeg\n",
      "prediction shape: [[0.63937515 0.02579621 0.04669354 0.00572381 0.27456635 0.00784497]]\n",
      "The person is: dicky\n",
      "WhatsApp Image 2022-08-12 at 11.24.40 PM (1).jpeg\n",
      "prediction shape: [[0.517042   0.18264978 0.06061765 0.01651311 0.21222062 0.01095677]]\n",
      "The person is: dicky\n",
      "WhatsApp Image 2022-08-12 at 11.24.40 PM (2).jpeg\n",
      "prediction shape: [[0.49962205 0.12585708 0.09676509 0.01250604 0.25772917 0.00752053]]\n",
      "The person is: dicky\n",
      "WhatsApp Image 2022-08-12 at 11.24.40 PM.jpeg\n",
      "prediction shape: [[0.535808   0.1887573  0.03935337 0.00673228 0.22112441 0.00822461]]\n",
      "The person is: dicky\n",
      "WhatsApp Image 2022-08-12 at 11.24.41 PM (1).jpeg\n",
      "prediction shape: [[0.5621401  0.10025434 0.0874327  0.00793371 0.23769072 0.00454836]]\n",
      "The person is: dicky\n",
      "WhatsApp Image 2022-08-12 at 11.24.41 PM (2).jpeg\n",
      "prediction shape: [[0.55380124 0.06017097 0.15223795 0.01273787 0.21540084 0.0056511 ]]\n",
      "The person is: dicky\n",
      "WhatsApp Image 2022-08-12 at 11.24.41 PM (3).jpeg\n",
      "prediction shape: [[0.58936226 0.12296274 0.08461168 0.01004077 0.18920927 0.00381324]]\n",
      "The person is: dicky\n",
      "WhatsApp Image 2022-08-12 at 11.24.41 PM.jpeg\n",
      "prediction shape: [[0.5282005  0.10810387 0.07428538 0.00988415 0.2770732  0.00245289]]\n",
      "The person is: dicky\n"
     ]
    }
   ],
   "source": [
    "directory = 'files'\n",
    " \n",
    "# iterate over files in\n",
    "# that directory\n",
    "for filename in os.listdir('../../Desktop/za'):\n",
    "    print(filename)\n",
    "    pixels = extract_face('../../Desktop/za/' + filename)\n",
    "    hello = []\n",
    "#     pyplot.subplot(2, 7, 1)\n",
    "#     pyplot.axis('off')\n",
    "#     pyplot.imshow(pixels)\n",
    "#     pyplot.show()\n",
    "    pixels = pixels.astype('float32')\n",
    "    pixels = np.array(pixels)\n",
    "    hello.append(pixels)\n",
    "    hello = np.array(hello)\n",
    "\n",
    "    yhat=model.predict(hello)\n",
    "    print(\"prediction shape:\", yhat)\n",
    "    prediction_index = np.argmax(yhat, axis=None, out=None)\n",
    "    prediction = y_test[prediction_index]\n",
    "\n",
    "    print(\"The person is: \" + prediction)"
   ]
  },
  {
   "cell_type": "markdown",
   "id": "b1ac3051",
   "metadata": {},
   "source": [
    "# 1. Far-Small and Near-Large Images"
   ]
  },
  {
   "cell_type": "code",
   "execution_count": null,
   "id": "5027846f",
   "metadata": {},
   "outputs": [],
   "source": []
  }
 ],
 "metadata": {
  "kernelspec": {
   "display_name": "Python 3 (ipykernel)",
   "language": "python",
   "name": "python3"
  },
  "language_info": {
   "codemirror_mode": {
    "name": "ipython",
    "version": 3
   },
   "file_extension": ".py",
   "mimetype": "text/x-python",
   "name": "python",
   "nbconvert_exporter": "python",
   "pygments_lexer": "ipython3",
   "version": "3.9.7"
  }
 },
 "nbformat": 4,
 "nbformat_minor": 5
}
